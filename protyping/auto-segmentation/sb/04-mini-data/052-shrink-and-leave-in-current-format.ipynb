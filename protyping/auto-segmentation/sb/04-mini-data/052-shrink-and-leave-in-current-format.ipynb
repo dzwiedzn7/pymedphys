{
 "cells": [
  {
   "cell_type": "code",
   "execution_count": null,
   "metadata": {},
   "outputs": [],
   "source": [
    "import os\n",
    "import json\n",
    "import warnings\n",
    "import pathlib\n",
    "import copy\n",
    "import shutil\n",
    "\n",
    "import numpy as np\n",
    "import matplotlib.pyplot as plt\n",
    "from skimage import transform\n",
    "import imageio\n",
    "import nilearn.image\n",
    "\n",
    "import nibabel\n",
    "\n",
    "import pymedphys"
   ]
  },
  {
   "cell_type": "code",
   "execution_count": null,
   "metadata": {},
   "outputs": [],
   "source": [
    "download_root = pymedphys._config.get_config_dir().joinpath('data', 'medical-decathlon')\n",
    "download_root.mkdir(exist_ok=True, parents=True)\n",
    "\n",
    "hash_path = download_root.joinpath('hashes.json')"
   ]
  },
  {
   "cell_type": "code",
   "execution_count": null,
   "metadata": {},
   "outputs": [],
   "source": [
    "base_download_url = 'https://github.com/pymedphys/data/releases/download'"
   ]
  },
  {
   "cell_type": "code",
   "execution_count": null,
   "metadata": {},
   "outputs": [],
   "source": [
    "def get_metadata(task):\n",
    "    download_url = f\"{base_download_url}/{task}/dataset.json\"\n",
    "    metadata_path = pymedphys.data_path(\n",
    "        f\"medical-decathlon/{task}/dataset.json\",\n",
    "        url=download_url,\n",
    "        hash_filepath=hash_path\n",
    "    )\n",
    "    \n",
    "    with open(metadata_path) as f:\n",
    "        metadata = json.load(f)\n",
    "        \n",
    "    return metadata"
   ]
  },
  {
   "cell_type": "code",
   "execution_count": null,
   "metadata": {},
   "outputs": [],
   "source": [
    "def download_task_path(task, path):\n",
    "    url = f\"{base_download_url}/{task}/{path[2:].replace('/', '--os.sep--')}\"\n",
    "    full_path = pathlib.Path(f\"medical-decathlon/{task}\").joinpath(path)\n",
    "    \n",
    "    return pymedphys.data_path(\n",
    "        full_path,\n",
    "        url=url,\n",
    "        hash_filepath=hash_path,\n",
    "        delete_when_no_hash_found=False\n",
    "    )\n",
    "\n",
    "\n",
    "def get_filepaths_for_task(task):\n",
    "    metadata = get_metadata(task)\n",
    "        \n",
    "    for paths in metadata['training']:\n",
    "        image_path = download_task_path(task, paths['image'])\n",
    "        label_path = download_task_path(task, paths['label'])\n",
    "        \n",
    "        yield image_path, label_path"
   ]
  },
  {
   "cell_type": "code",
   "execution_count": null,
   "metadata": {},
   "outputs": [],
   "source": [
    "task = 'Task06_Lung'"
   ]
  },
  {
   "cell_type": "code",
   "execution_count": null,
   "metadata": {},
   "outputs": [],
   "source": [
    "dimension_downscale = int(8)"
   ]
  },
  {
   "cell_type": "code",
   "execution_count": null,
   "metadata": {},
   "outputs": [],
   "source": [
    "image_path, label_path = next(gen)"
   ]
  },
  {
   "cell_type": "code",
   "execution_count": null,
   "metadata": {},
   "outputs": [],
   "source": [
    "download_root = image_path.parent.parent.parent\n",
    "new_root = download_root.joinpath(\"shrunk-data\")\n",
    "new_task_dir = new_root.joinpath(task)\n",
    "new_task_dir.mkdir(exist_ok=True, parents=True)\n",
    "\n",
    "shutil.copy(\n",
    "    download_root.joinpath(task, 'dataset.json'),\n",
    "    new_task_dir.joinpath('dataset.json')\n",
    ")"
   ]
  },
  {
   "cell_type": "code",
   "execution_count": null,
   "metadata": {},
   "outputs": [],
   "source": [
    "gen = get_filepaths_for_task(task)\n",
    "\n",
    "for image_path, label_path in gen:\n",
    "    image = nibabel.load(image_path)\n",
    "    label = nibabel.load(label_path)\n",
    "    \n",
    "    target_affine = copy.copy(image.affine)\n",
    "    target_affine[0,0] = target_affine[0,0] * dimension_downscale\n",
    "    target_affine[1,1] = target_affine[1,1] * dimension_downscale\n",
    "\n",
    "    print(target_affine)\n",
    "    \n",
    "    target_shape = (\n",
    "        image.shape[0] // dimension_downscale, \n",
    "        image.shape[1] // dimension_downscale, \n",
    "        image.shape[2]\n",
    "    )\n",
    "    \n",
    "    print(target_shape)\n",
    "    \n",
    "    new_image = nilearn.image.resample_img(\n",
    "        image, target_affine=target_affine,\n",
    "        target_shape=target_shape,\n",
    "        interpolation='nearest'\n",
    "    )\n",
    "    \n",
    "    new_label = nilearn.image.resample_img(\n",
    "        label, target_affine=target_affine,\n",
    "        target_shape=target_shape,\n",
    "        interpolation='nearest'\n",
    "    )\n",
    "    \n",
    "    new_image_path = new_root.joinpath(image_path.relative_to(download_root))\n",
    "    new_image_path.parent.mkdir(exist_ok=True, parents=True)\n",
    "    \n",
    "    new_label_path = new_root.joinpath(label_path.relative_to(download_root))\n",
    "    new_label_path.parent.mkdir(exist_ok=True, parents=True)\n",
    "    \n",
    "    nibabel.save(new_image, new_image_path)\n",
    "    nibabel.save(new_label, new_label_path)"
   ]
  }
 ],
 "metadata": {
  "kernelspec": {
   "display_name": "pymedphys-master",
   "language": "python",
   "name": "pymedphys-master"
  },
  "language_info": {
   "codemirror_mode": {
    "name": "ipython",
    "version": 3
   },
   "file_extension": ".py",
   "mimetype": "text/x-python",
   "name": "python",
   "nbconvert_exporter": "python",
   "pygments_lexer": "ipython3",
   "version": "3.7.8"
  }
 },
 "nbformat": 4,
 "nbformat_minor": 4
}
