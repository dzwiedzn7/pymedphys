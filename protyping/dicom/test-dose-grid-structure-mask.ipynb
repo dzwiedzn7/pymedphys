{
 "cells": [
  {
   "cell_type": "code",
   "execution_count": null,
   "metadata": {},
   "outputs": [],
   "source": [
    "import numpy as np\n",
    "import matplotlib.pyplot as plt\n",
    "\n",
    "import shapely.geometry\n",
    "\n",
    "from pymedphys._dicom.create import dicom_dataset_from_dict"
   ]
  },
  {
   "cell_type": "code",
   "execution_count": null,
   "metadata": {},
   "outputs": [],
   "source": [
    "x = np.arange(-1, 2, 0.1)\n",
    "y = np.arange(-1, 3, 0.2)\n",
    "\n",
    "xx, yy = np.meshgrid(x, y)"
   ]
  },
  {
   "cell_type": "code",
   "execution_count": null,
   "metadata": {},
   "outputs": [],
   "source": [
    "xx_flat, yy_flat = xx.ravel(), yy.ravel()\n",
    "points = shapely.geometry.MultiPoint(list(zip(xx_flat, yy_flat)))\n",
    "points"
   ]
  },
  {
   "cell_type": "code",
   "execution_count": null,
   "metadata": {},
   "outputs": [],
   "source": [
    "contour_x = [0, 0, 1, 1]\n",
    "contour_y = [0, 2, 2, 0]\n",
    "\n",
    "contours = np.vstack([contour_x, contour_y]).T\n",
    "contours"
   ]
  },
  {
   "cell_type": "code",
   "execution_count": null,
   "metadata": {},
   "outputs": [],
   "source": [
    "rectangle = shapely.geometry.Polygon(contours)\n",
    "rectangle"
   ]
  },
  {
   "cell_type": "code",
   "execution_count": null,
   "metadata": {},
   "outputs": [],
   "source": [
    "points_within_rectangle = points.intersection(rectangle)\n",
    "points_within_rectangle"
   ]
  },
  {
   "cell_type": "code",
   "execution_count": null,
   "metadata": {},
   "outputs": [],
   "source": [
    "assert points_within_rectangle.within(rectangle)"
   ]
  },
  {
   "cell_type": "code",
   "execution_count": null,
   "metadata": {},
   "outputs": [],
   "source": [
    "## mask = np.zeros_like(xx).astype('bool')\n",
    "\n",
    "for point in points_within_rectangle:\n",
    "    coord = point.coords.xy\n",
    "    mask[np.logical_and(xx==coord[0], yy==coord[1])] = True\n",
    "    \n",
    "# plt.pcolormesh(xx, yy, mask, shading='nearest')\n",
    "plt.scatter(xx, yy, c=mask)\n",
    "plt.plot(contour_x, contour_y, lw=2)"
   ]
  },
  {
   "cell_type": "code",
   "execution_count": null,
   "metadata": {},
   "outputs": [],
   "source": [
    "buffered_rectangle = rectangle.buffer(0.001)\n",
    "buffered_rectangle"
   ]
  },
  {
   "cell_type": "code",
   "execution_count": null,
   "metadata": {},
   "outputs": [],
   "source": [
    "points_within_buffered_rectangle = points.intersection(buffered_rectangle)\n",
    "\n",
    "buffered_mask = np.zeros_like(xx).astype('bool')\n",
    "\n",
    "for point in points_within_buffered_rectangle:\n",
    "    coord = point.coords.xy\n",
    "    buffered_mask[np.logical_and(xx==coord[0], yy==coord[1])] = True\n",
    "    \n",
    "plt.scatter(xx, yy, c=buffered_mask)\n",
    "plt.plot(contour_x, contour_y, lw=2)"
   ]
  }
 ],
 "metadata": {
  "kernelspec": {
   "display_name": "pymedphys-master",
   "language": "python",
   "name": "pymedphys-master"
  },
  "language_info": {
   "codemirror_mode": {
    "name": "ipython",
    "version": 3
   },
   "file_extension": ".py",
   "mimetype": "text/x-python",
   "name": "python",
   "nbconvert_exporter": "python",
   "pygments_lexer": "ipython3",
   "version": "3.7.0"
  }
 },
 "nbformat": 4,
 "nbformat_minor": 4
}
