{
 "cells": [
  {
   "cell_type": "code",
   "execution_count": null,
   "metadata": {},
   "outputs": [],
   "source": [
    "import matplotlib.pyplot as plt\n",
    "\n",
    "import pathlib"
   ]
  },
  {
   "cell_type": "code",
   "execution_count": null,
   "metadata": {},
   "outputs": [],
   "source": [
    "%load_ext autoreload\n",
    "%autoreload 2"
   ]
  },
  {
   "cell_type": "code",
   "execution_count": null,
   "metadata": {},
   "outputs": [],
   "source": [
    "from pymedphys import _losslessjpeg as lljpeg\n",
    "from pymedphys._wlutz import iview as _iview\n",
    "from pymedphys._wlutz import imginterp as _imginterp\n",
    "from pymedphys._wlutz import findfield as _findfield\n",
    "from pymedphys._wlutz import findbb as _findbb\n",
    "from pymedphys._wlutz import reporting as _reporting"
   ]
  },
  {
   "cell_type": "code",
   "execution_count": null,
   "metadata": {},
   "outputs": [],
   "source": [
    "def read_image(path):\n",
    "    return lljpeg.imread(path)"
   ]
  },
  {
   "cell_type": "code",
   "execution_count": null,
   "metadata": {},
   "outputs": [],
   "source": [
    "path = pathlib.Path(\n",
    "    r'\\\\tunnel-nbcc-pdc\\Physics\\NBCC-DataExchange\\iViewDB\\patient_MVISO\\MV_IMAGES\\img_1.3.46.423632.301843.1579156836.86\\00022.1.3.46.423632.301843.1579156836.86.jpg'\n",
    ")"
   ]
  },
  {
   "cell_type": "code",
   "execution_count": null,
   "metadata": {},
   "outputs": [],
   "source": [
    "edge_lengths = [20, 24]\n",
    "penumbra = 2\n",
    "bb_diameter = 8"
   ]
  },
  {
   "cell_type": "code",
   "execution_count": null,
   "metadata": {},
   "outputs": [],
   "source": [
    "raw_img = read_image(path)\n",
    "x, y, img = _iview.iview_image_transform(raw_img)\n",
    "\n",
    "field = _imginterp.create_interpolated_field(x, y, img)\n",
    "initial_centre = _findfield.get_centre_of_mass(x, y, img)"
   ]
  },
  {
   "cell_type": "code",
   "execution_count": null,
   "metadata": {},
   "outputs": [],
   "source": [
    "fig, ax = plt.subplots()\n",
    "ax.pcolormesh(x, y, img, shading='nearest')\n",
    "\n",
    "ax.axis('equal')\n",
    "ax.set_xlim([-30,30])\n",
    "ax.set_ylim([-30,30])"
   ]
  },
  {
   "cell_type": "code",
   "execution_count": null,
   "metadata": {},
   "outputs": [],
   "source": [
    "field_centre, field_rotation = _findfield.field_centre_and_rotation_refining(\n",
    "    field, edge_lengths, penumbra, initial_centre\n",
    ")"
   ]
  },
  {
   "cell_type": "code",
   "execution_count": null,
   "metadata": {},
   "outputs": [],
   "source": [
    "bb_centre = _findbb.optimise_bb_centre(\n",
    "    field, bb_diameter, edge_lengths, penumbra, field_centre, field_rotation\n",
    ")"
   ]
  },
  {
   "cell_type": "code",
   "execution_count": null,
   "metadata": {},
   "outputs": [],
   "source": [
    "fig = _reporting.image_analysis_figure(\n",
    "    x,\n",
    "    y,\n",
    "    img,\n",
    "    bb_centre,\n",
    "    field_centre,\n",
    "    field_rotation,\n",
    "    bb_diameter,\n",
    "    edge_lengths,\n",
    "    penumbra,\n",
    ")"
   ]
  }
 ],
 "metadata": {
  "kernelspec": {
   "display_name": "pymedphys",
   "language": "python",
   "name": "pymedphys"
  },
  "language_info": {
   "codemirror_mode": {
    "name": "ipython",
    "version": 3
   },
   "file_extension": ".py",
   "mimetype": "text/x-python",
   "name": "python",
   "nbconvert_exporter": "python",
   "pygments_lexer": "ipython3",
   "version": "3.8.2"
  }
 },
 "nbformat": 4,
 "nbformat_minor": 4
}
